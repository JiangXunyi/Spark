{
 "cells": [
  {
   "cell_type": "markdown",
   "metadata": {},
   "source": [
    "## 初始化"
   ]
  },
  {
   "cell_type": "code",
   "execution_count": 6,
   "metadata": {},
   "outputs": [
    {
     "name": "stdout",
     "output_type": "stream",
     "text": [
      "22/10/25 16:39:55 WARN Utils: Your hostname, XunyiJiangdeMacBook-Air.local resolves to a loopback address: 127.0.0.1; using 10.12.7.110 instead (on interface en0)\n",
      "22/10/25 16:39:55 WARN Utils: Set SPARK_LOCAL_IP if you need to bind to another address\n"
     ]
    },
    {
     "name": "stderr",
     "output_type": "stream",
     "text": [
      "Setting default log level to \"WARN\".\n",
      "To adjust logging level use sc.setLogLevel(newLevel). For SparkR, use setLogLevel(newLevel).\n"
     ]
    },
    {
     "name": "stdout",
     "output_type": "stream",
     "text": [
      "22/10/25 16:39:56 WARN NativeCodeLoader: Unable to load native-hadoop library for your platform... using builtin-java classes where applicable\n"
     ]
    }
   ],
   "source": [
    "from pyspark.sql import SparkSession\n",
    "from datetime import datetime, date\n",
    "import pandas as pd\n",
    "from pyspark.sql import Row\n",
    "\n",
    "spark = SparkSession.builder.getOrCreate()\n",
    "spark.conf.set('spark.sql.repl.eagerEval.enabled', True)"
   ]
  },
  {
   "cell_type": "markdown",
   "metadata": {},
   "source": [
    "## Get data"
   ]
  },
  {
   "cell_type": "code",
   "execution_count": 7,
   "metadata": {},
   "outputs": [
    {
     "name": "stderr",
     "output_type": "stream",
     "text": [
      "                                                                                \r"
     ]
    }
   ],
   "source": [
    "us_covid = spark.read.csv('../data/us_covid.csv',header=True)\n"
   ]
  },
  {
   "cell_type": "markdown",
   "metadata": {},
   "source": [
    "## Overview"
   ]
  },
  {
   "cell_type": "code",
   "execution_count": 8,
   "metadata": {},
   "outputs": [
    {
     "name": "stderr",
     "output_type": "stream",
     "text": [
      "                                                                                \r"
     ]
    },
    {
     "data": {
      "text/plain": [
       "[('date', 'string'),\n",
       " ('county', 'string'),\n",
       " ('state', 'string'),\n",
       " ('cases', 'int'),\n",
       " ('deaths', 'int')]"
      ]
     },
     "execution_count": 8,
     "metadata": {},
     "output_type": "execute_result"
    }
   ],
   "source": [
    "us_covid.select('cases','deaths').summary()\n",
    "us_covid.columns\n",
    "us_covid.dtypes\n",
    "\n",
    "## change string into int\n",
    "from pyspark.sql.types import IntegerType\n",
    "from pyspark.sql.functions import col\n",
    "us_covid = us_covid.withColumn('cases',us_covid.cases.cast(IntegerType()))\n",
    "us_covid = us_covid.withColumn('deaths', us_covid.deaths.cast(IntegerType()))\n",
    "us_covid.dtypes"
   ]
  },
  {
   "cell_type": "code",
   "execution_count": 17,
   "metadata": {},
   "outputs": [
    {
     "data": {
      "text/plain": [
       "<AxesSubplot:>"
      ]
     },
     "execution_count": 17,
     "metadata": {},
     "output_type": "execute_result"
    },
    {
     "data": {
      "image/png": "[encoded data removed]",
      "text/plain": [
       "<Figure size 432x288 with 1 Axes>"
      ]
     },
     "metadata": {
      "needs_background": "light"
     },
     "output_type": "display_data"
    }
   ],
   "source": [
    "#pd.plotting.hist_series(us_covid.select('cases').toPandas())\n",
    "#us_covid.select('cases')"
   ]
  },
  {
   "cell_type": "code",
   "execution_count": 20,
   "metadata": {},
   "outputs": [
    {
     "data": {
      "text/plain": [
       "False"
      ]
     },
     "execution_count": 20,
     "metadata": {},
     "output_type": "execute_result"
    }
   ],
   "source": [
    "us_covid.select(['date', 'county', 'state', 'cases', 'deaths']).isEmpty()\n",
    "type()"
   ]
  },
  {
   "cell_type": "markdown",
   "metadata": {},
   "source": [
    "## 3.3 统计截止5.19日，美国各州的累计确诊人数和死亡人数，并可视化展示。\n"
   ]
  },
  {
   "cell_type": "code",
   "execution_count": 10,
   "metadata": {},
   "outputs": [
    {
     "name": "stderr",
     "output_type": "stream",
     "text": [
      "                                                                                \r"
     ]
    }
   ],
   "source": [
    "us_covid.groupby('state').sum('cases','deaths').write.csv('results/result3',header = True)"
   ]
  },
  {
   "cell_type": "code",
   "execution_count": null,
   "metadata": {},
   "outputs": [],
   "source": []
  },
  {
   "cell_type": "code",
   "execution_count": null,
   "metadata": {},
   "outputs": [],
   "source": []
  },
  {
   "cell_type": "code",
   "execution_count": null,
   "metadata": {},
   "outputs": [],
   "source": []
  },
  {
   "cell_type": "markdown",
   "metadata": {},
   "source": [
    "## 3.4 统计截止5.19日，美国确诊人数最多的十个州，并可视化展示。"
   ]
  },
  {
   "cell_type": "code",
   "execution_count": 12,
   "metadata": {},
   "outputs": [
    {
     "data": {
      "text/html": [
       "<table border='1'>\n",
       "<tr><th>state</th><th>sum(cases)</th></tr>\n",
       "<tr><td>Utah</td><td>205581</td></tr>\n",
       "<tr><td>Hawaii</td><td>28266</td></tr>\n",
       "<tr><td>Minnesota</td><td>282491</td></tr>\n",
       "<tr><td>Ohio</td><td>755119</td></tr>\n",
       "<tr><td>Northern Mariana ...</td><td>689</td></tr>\n",
       "<tr><td>Oregon</td><td>115862</td></tr>\n",
       "<tr><td>Arkansas</td><td>134312</td></tr>\n",
       "<tr><td>Texas</td><td>1282385</td></tr>\n",
       "<tr><td>North Dakota</td><td>44513</td></tr>\n",
       "<tr><td>Pennsylvania</td><td>1970295</td></tr>\n",
       "<tr><td>Connecticut</td><td>1116652</td></tr>\n",
       "<tr><td>Nebraska</td><td>201088</td></tr>\n",
       "<tr><td>Vermont</td><td>40628</td></tr>\n",
       "<tr><td>Nevada</td><td>222290</td></tr>\n",
       "<tr><td>Puerto Rico</td><td>71061</td></tr>\n",
       "<tr><td>Washington</td><td>707111</td></tr>\n",
       "<tr><td>Illinois</td><td>2316059</td></tr>\n",
       "<tr><td>Oklahoma</td><td>158406</td></tr>\n",
       "<tr><td>Virgin Islands</td><td>3028</td></tr>\n",
       "<tr><td>District of Columbia</td><td>190158</td></tr>\n",
       "</table>\n",
       "only showing top 20 rows\n"
      ],
      "text/plain": [
       "+--------------------+----------+\n",
       "|               state|sum(cases)|\n",
       "+--------------------+----------+\n",
       "|                Utah|    205581|\n",
       "|              Hawaii|     28266|\n",
       "|           Minnesota|    282491|\n",
       "|                Ohio|    755119|\n",
       "|Northern Mariana ...|       689|\n",
       "|              Oregon|    115862|\n",
       "|            Arkansas|    134312|\n",
       "|               Texas|   1282385|\n",
       "|        North Dakota|     44513|\n",
       "|        Pennsylvania|   1970295|\n",
       "|         Connecticut|   1116652|\n",
       "|            Nebraska|    201088|\n",
       "|             Vermont|     40628|\n",
       "|              Nevada|    222290|\n",
       "|         Puerto Rico|     71061|\n",
       "|          Washington|    707111|\n",
       "|            Illinois|   2316059|\n",
       "|            Oklahoma|    158406|\n",
       "|      Virgin Islands|      3028|\n",
       "|District of Columbia|    190158|\n",
       "+--------------------+----------+\n",
       "only showing top 20 rows"
      ]
     },
     "execution_count": 12,
     "metadata": {},
     "output_type": "execute_result"
    }
   ],
   "source": [
    "state_count = us_covid.groupBy('state').sum('cases')\n",
    "state_count"
   ]
  },
  {
   "cell_type": "code",
   "execution_count": 16,
   "metadata": {},
   "outputs": [],
   "source": [
    "state_count.orderBy(['sum(cases)'],ascending = False).write.csv('results/result4')"
   ]
  },
  {
   "cell_type": "code",
   "execution_count": 23,
   "metadata": {},
   "outputs": [],
   "source": [
    "from pywebio.output import put_html\n",
    "from pywebio.output import use_scope\n",
    "from pyecharts.charts import WordCloud\n",
    "from pyecharts.globals import SymbolType\n",
    "from pyecharts import options as opts\n",
    "from pywebio.output import put_text\n",
    "from pywebio.output import put_table\n",
    "from pywebio.output import toast\n",
    "from pywebio.output import put_image\n",
    "from pywebio.output import put_markdown\n",
    "from pywebio.output import put_file\n",
    "from pywebio.output import popup\n",
    "from pywebio.output import put_html\n",
    "from pywebio.output import put_loading\n",
    "from pywebio.output import put_collapse\n",
    "from pywebio.output import scroll_to\n",
    "from pywebio.output import clear\n",
    "from pywebio.output import put_code\n",
    "def drawChart_4(index):\n",
    "    root = \"results/result\" + str(index) +\"/part-00000-2ffd8404-8b39-4315-9323-a0096f094496-c000.csv\"\n",
    "    data = []\n",
    "    cnt = 0\n",
    "    with open(root, 'r') as f:\n",
    "        while cnt < 10:\n",
    "            cnt += 1\n",
    "            line = f.readline()\n",
    "            row = line.split(',')\n",
    "            data.append(row)\n",
    "\n",
    "    c = (\n",
    "    WordCloud()\n",
    "    .add(\"\", data, word_size_range=[20, 100], shape=SymbolType.DIAMOND)\n",
    "    .set_global_opts(title_opts=opts.TitleOpts(title=\"美国各州确诊Top10\"))\n",
    "    #.render(\"results_pics/result4.html\")\n",
    "    )\n",
    "    c.width = \"100%\"\n",
    "    put_html(c.render_notebook()) #通过 put_html() 嵌入 PyWebIO 中\n",
    "\n",
    "\n",
    "@use_scope('content', clear=True)\n",
    "def show_demo(name):\n",
    "    if name not in t(all_demos, all_demos_zh):\n",
    "        return\n",
    "\n",
    "    with use_scope('loading'):\n",
    "        put_text('Loading...')\n",
    "        put_loading()\n",
    "\n",
    "    base_dir = path.join(src_path, name)\n",
    "    files = os.listdir(base_dir)\n",
    "    for file in files:\n",
    "        if not file.endswith('.py'):\n",
    "            continue\n",
    "        name = file[:-len(\".py\")]\n",
    "\n",
    "        html_file = path.join(base_dir, 'output', name) + '.html'\n",
    "        try:\n",
    "            code = open(path.join(base_dir, file)).read()\n",
    "            html = open(html_file).read()\n",
    "        except:\n",
    "            continue\n",
    "\n",
    "        put_html(html)\n",
    "\n",
    "        # todo: if there is `open` calls, provide the file link\n",
    "        put_collapse(t('Show source code', '查看源码'), put_code(code, 'python'))\n",
    "\n",
    "    scroll_to(position='top')\n",
    "    clear('loading')\n"
   ]
  },
  {
   "cell_type": "code",
   "execution_count": 24,
   "metadata": {},
   "outputs": [],
   "source": [
    "drawChart_4(4)"
   ]
  },
  {
   "cell_type": "markdown",
   "metadata": {},
   "source": [
    "## PyWebIO Learn"
   ]
  },
  {
   "cell_type": "code",
   "execution_count": 2,
   "metadata": {},
   "outputs": [],
   "source": [
    "from pywebio.output import put_text\n",
    "from pywebio.output import put_table\n",
    "from pywebio.output import toast\n",
    "from pywebio.output import put_image\n",
    "from pywebio.output import put_markdown\n",
    "from pywebio.output import put_file\n",
    "from pywebio.output import popup\n",
    "from pywebio.output import put_html\n",
    "# Text Output\n",
    "\n",
    "\n",
    "def test():\n",
    "    put_text(\"Hello world!\").show()\n",
    "\n",
    "    # Table Output\n",
    "    put_table([\n",
    "        ['Commodity', 'Price'],\n",
    "        ['Apple', '5.5'],\n",
    "        ['Banana', '7'],\n",
    "    ])\n",
    "\n",
    "    # # Image Output\n",
    "    # put_image(open('/path/to/some/image.png', 'rb').read())  # local image \n",
    "    # put_image('http://example.com/some-image.png')  # internet image \n",
    "\n",
    "    # HTML output\n",
    "    html = open('results_pics/result4.html').read()\n",
    "    put_html(html)\n",
    "\n",
    "    # Markdown Output\n",
    "    put_markdown('~~Strikethrough~~')\n",
    "\n",
    "    # File Output\n",
    "    put_file('hello_word.txt', b'hello word!')\n",
    "\n",
    "    # Show a PopUp\n",
    "    popup('popup title', 'popup text content')\n",
    "\n",
    "    # Show a notification message\n",
    "    toast('New message 🔔')\n"
   ]
  },
  {
   "cell_type": "code",
   "execution_count": 2,
   "metadata": {},
   "outputs": [
    {
     "data": {
      "text/plain": [
       "<pywebio.io_ctrl.Output at 0x106d57d30>"
      ]
     },
     "execution_count": 2,
     "metadata": {},
     "output_type": "execute_result"
    }
   ],
   "source": [
    "from pywebio.output import put_buttons\n",
    "put_table([\n",
    "    ['Type', 'Content'],\n",
    "    ['html', put_html('X<sup>2</sup>')],\n",
    "    ['text', '<hr/>'],  # equal to ['text', put_text('<hr/>')]\n",
    "    ['buttons', put_buttons(['A', 'B'], onclick=put_text)],  \n",
    "    ['markdown', put_markdown('`Awesome PyWebIO!`')],\n",
    "    ['file', put_file('hello.text', b'hello world')],\n",
    "    ['table', put_table([['A', 'B'], ['C', 'D']])]\n",
    "])"
   ]
  },
  {
   "cell_type": "code",
   "execution_count": 3,
   "metadata": {},
   "outputs": [
    {
     "ename": "OSError",
     "evalue": "[Errno 48] Address already in use",
     "output_type": "error",
     "traceback": [
      "\u001b[0;31m---------------------------------------------------------------------------\u001b[0m",
      "\u001b[0;31mOSError\u001b[0m                                   Traceback (most recent call last)",
      "\u001b[1;32m/Users/xunyijiang/Documents/StudyMaterials/2022Fall/DPC/spark/assignment2/codes/assign2.ipynb Cell 22\u001b[0m in \u001b[0;36m<cell line: 35>\u001b[0;34m()\u001b[0m\n\u001b[1;32m     <a href='vscode-notebook-cell:/Users/xunyijiang/Documents/StudyMaterials/2022Fall/DPC/spark/assignment2/codes/assign2.ipynb#X34sZmlsZQ%3D%3D?line=31'>32</a>\u001b[0m     \u001b[39m# Show a notification message\u001b[39;00m\n\u001b[1;32m     <a href='vscode-notebook-cell:/Users/xunyijiang/Documents/StudyMaterials/2022Fall/DPC/spark/assignment2/codes/assign2.ipynb#X34sZmlsZQ%3D%3D?line=32'>33</a>\u001b[0m     toast(\u001b[39m'\u001b[39m\u001b[39mNew message 🔔\u001b[39m\u001b[39m'\u001b[39m)\n\u001b[0;32m---> <a href='vscode-notebook-cell:/Users/xunyijiang/Documents/StudyMaterials/2022Fall/DPC/spark/assignment2/codes/assign2.ipynb#X34sZmlsZQ%3D%3D?line=34'>35</a>\u001b[0m start_server(main, port\u001b[39m=\u001b[39;49m\u001b[39m8080\u001b[39;49m, debug\u001b[39m=\u001b[39;49m\u001b[39mTrue\u001b[39;49;00m)\n",
      "File \u001b[0;32m/opt/miniconda3/envs/myEnv/lib/python3.9/site-packages/pywebio/platform/tornado.py:291\u001b[0m, in \u001b[0;36mstart_server\u001b[0;34m(applications, port, host, debug, cdn, static_dir, remote_access, reconnect_timeout, allowed_origins, check_origin, auto_open_webbrowser, max_payload_size, **tornado_app_settings)\u001b[0m\n\u001b[1;32m    288\u001b[0m tornado_app_settings[\u001b[39m'\u001b[39m\u001b[39mdebug\u001b[39m\u001b[39m'\u001b[39m] \u001b[39m=\u001b[39m debug\n\u001b[1;32m    289\u001b[0m handler \u001b[39m=\u001b[39m webio_handler(applications, cdn, allowed_origins\u001b[39m=\u001b[39mallowed_origins, check_origin\u001b[39m=\u001b[39mcheck_origin,\n\u001b[1;32m    290\u001b[0m                         reconnect_timeout\u001b[39m=\u001b[39mreconnect_timeout)\n\u001b[0;32m--> 291\u001b[0m _, port \u001b[39m=\u001b[39m _setup_server(webio_handler\u001b[39m=\u001b[39;49mhandler, port\u001b[39m=\u001b[39;49mport, host\u001b[39m=\u001b[39;49mhost, static_dir\u001b[39m=\u001b[39;49mstatic_dir,\n\u001b[1;32m    292\u001b[0m                         max_buffer_size\u001b[39m=\u001b[39;49mmax_payload_size, \u001b[39m*\u001b[39;49m\u001b[39m*\u001b[39;49mtornado_app_settings)\n\u001b[1;32m    294\u001b[0m print_listen_address(host, port)\n\u001b[1;32m    296\u001b[0m \u001b[39mif\u001b[39;00m auto_open_webbrowser:\n",
      "File \u001b[0;32m/opt/miniconda3/envs/myEnv/lib/python3.9/site-packages/pywebio/platform/tornado.py:205\u001b[0m, in \u001b[0;36m_setup_server\u001b[0;34m(webio_handler, port, host, static_dir, max_buffer_size, **tornado_app_settings)\u001b[0m\n\u001b[1;32m    203\u001b[0m app \u001b[39m=\u001b[39m tornado\u001b[39m.\u001b[39mweb\u001b[39m.\u001b[39mApplication(handlers\u001b[39m=\u001b[39mhandlers, \u001b[39m*\u001b[39m\u001b[39m*\u001b[39mtornado_app_settings)\n\u001b[1;32m    204\u001b[0m \u001b[39m# Credit: https://stackoverflow.com/questions/19074972/content-length-too-long-when-uploading-file-using-tornado\u001b[39;00m\n\u001b[0;32m--> 205\u001b[0m server \u001b[39m=\u001b[39m app\u001b[39m.\u001b[39;49mlisten(port, address\u001b[39m=\u001b[39;49mhost, max_buffer_size\u001b[39m=\u001b[39;49mmax_buffer_size)\n\u001b[1;32m    206\u001b[0m \u001b[39mreturn\u001b[39;00m server, port\n",
      "File \u001b[0;32m/opt/miniconda3/envs/myEnv/lib/python3.9/site-packages/tornado/web.py:2109\u001b[0m, in \u001b[0;36mApplication.listen\u001b[0;34m(self, port, address, **kwargs)\u001b[0m\n\u001b[1;32m   2090\u001b[0m \u001b[39m\"\"\"Starts an HTTP server for this application on the given port.\u001b[39;00m\n\u001b[1;32m   2091\u001b[0m \n\u001b[1;32m   2092\u001b[0m \u001b[39mThis is a convenience alias for creating an `.HTTPServer`\u001b[39;00m\n\u001b[0;32m   (...)\u001b[0m\n\u001b[1;32m   2106\u001b[0m \u001b[39m   Now returns the `.HTTPServer` object.\u001b[39;00m\n\u001b[1;32m   2107\u001b[0m \u001b[39m\"\"\"\u001b[39;00m\n\u001b[1;32m   2108\u001b[0m server \u001b[39m=\u001b[39m HTTPServer(\u001b[39mself\u001b[39m, \u001b[39m*\u001b[39m\u001b[39m*\u001b[39mkwargs)\n\u001b[0;32m-> 2109\u001b[0m server\u001b[39m.\u001b[39;49mlisten(port, address)\n\u001b[1;32m   2110\u001b[0m \u001b[39mreturn\u001b[39;00m server\n",
      "File \u001b[0;32m/opt/miniconda3/envs/myEnv/lib/python3.9/site-packages/tornado/tcpserver.py:151\u001b[0m, in \u001b[0;36mTCPServer.listen\u001b[0;34m(self, port, address)\u001b[0m\n\u001b[1;32m    143\u001b[0m \u001b[39mdef\u001b[39;00m \u001b[39mlisten\u001b[39m(\u001b[39mself\u001b[39m, port: \u001b[39mint\u001b[39m, address: \u001b[39mstr\u001b[39m \u001b[39m=\u001b[39m \u001b[39m\"\u001b[39m\u001b[39m\"\u001b[39m) \u001b[39m-\u001b[39m\u001b[39m>\u001b[39m \u001b[39mNone\u001b[39;00m:\n\u001b[1;32m    144\u001b[0m     \u001b[39m\"\"\"Starts accepting connections on the given port.\u001b[39;00m\n\u001b[1;32m    145\u001b[0m \n\u001b[1;32m    146\u001b[0m \u001b[39m    This method may be called more than once to listen on multiple ports.\u001b[39;00m\n\u001b[0;32m   (...)\u001b[0m\n\u001b[1;32m    149\u001b[0m \u001b[39m    the `.IOLoop`.\u001b[39;00m\n\u001b[1;32m    150\u001b[0m \u001b[39m    \"\"\"\u001b[39;00m\n\u001b[0;32m--> 151\u001b[0m     sockets \u001b[39m=\u001b[39m bind_sockets(port, address\u001b[39m=\u001b[39;49maddress)\n\u001b[1;32m    152\u001b[0m     \u001b[39mself\u001b[39m\u001b[39m.\u001b[39madd_sockets(sockets)\n",
      "File \u001b[0;32m/opt/miniconda3/envs/myEnv/lib/python3.9/site-packages/tornado/netutil.py:161\u001b[0m, in \u001b[0;36mbind_sockets\u001b[0;34m(port, address, family, backlog, flags, reuse_port)\u001b[0m\n\u001b[1;32m    159\u001b[0m sock\u001b[39m.\u001b[39msetblocking(\u001b[39mFalse\u001b[39;00m)\n\u001b[1;32m    160\u001b[0m \u001b[39mtry\u001b[39;00m:\n\u001b[0;32m--> 161\u001b[0m     sock\u001b[39m.\u001b[39;49mbind(sockaddr)\n\u001b[1;32m    162\u001b[0m \u001b[39mexcept\u001b[39;00m \u001b[39mOSError\u001b[39;00m \u001b[39mas\u001b[39;00m e:\n\u001b[1;32m    163\u001b[0m     \u001b[39mif\u001b[39;00m (\n\u001b[1;32m    164\u001b[0m         errno_from_exception(e) \u001b[39m==\u001b[39m errno\u001b[39m.\u001b[39mEADDRNOTAVAIL\n\u001b[1;32m    165\u001b[0m         \u001b[39mand\u001b[39;00m address \u001b[39m==\u001b[39m \u001b[39m\"\u001b[39m\u001b[39mlocalhost\u001b[39m\u001b[39m\"\u001b[39m\n\u001b[0;32m   (...)\u001b[0m\n\u001b[1;32m    177\u001b[0m         \u001b[39m# might be a real problem like a typo in a\u001b[39;00m\n\u001b[1;32m    178\u001b[0m         \u001b[39m# configuration.\u001b[39;00m\n",
      "\u001b[0;31mOSError\u001b[0m: [Errno 48] Address already in use"
     ]
    }
   ],
   "source": [
    "from pywebio import *\n",
    "\n",
    "def main():  # PyWebIO application function\n",
    "    name = input.input(\"what's your name\")\n",
    "    output.put_text(\"hello\", name)\n",
    "    put_text(\"Hello world!\").show()\n",
    "\n",
    "    # Table Output\n",
    "    put_table([\n",
    "        ['Commodity', 'Price'],\n",
    "        ['Apple', '5.5'],\n",
    "        ['Banana', '7'],\n",
    "    ])\n",
    "\n",
    "    # # Image Output\n",
    "    # put_image(open('/path/to/some/image.png', 'rb').read())  # local image \n",
    "    # put_image('http://example.com/some-image.png')  # internet image \n",
    "\n",
    "    # HTML output\n",
    "    html = open('results_pics/result4.html').read()\n",
    "    put_html(html)\n",
    "\n",
    "    # Markdown Output\n",
    "    put_markdown('~~Strikethrough~~')\n",
    "\n",
    "    # File Output\n",
    "    put_file('hello_word.txt', b'hello word!')\n",
    "\n",
    "    # Show a PopUp\n",
    "    popup('popup title', 'popup text content')\n",
    "\n",
    "    # Show a notification message\n",
    "    toast('New message 🔔')\n",
    "\n",
    "start_server(main, port=8080, debug=True)"
   ]
  },
  {
   "cell_type": "code",
   "execution_count": 4,
   "metadata": {},
   "outputs": [
    {
     "ename": "OSError",
     "evalue": "[Errno 48] Address already in use",
     "output_type": "error",
     "traceback": [
      "\u001b[0;31m---------------------------------------------------------------------------\u001b[0m",
      "\u001b[0;31mOSError\u001b[0m                                   Traceback (most recent call last)",
      "\u001b[1;32m/Users/xunyijiang/Documents/StudyMaterials/2022Fall/DPC/spark/assignment2/codes/assign2.ipynb Cell 23\u001b[0m in \u001b[0;36m<cell line: 1>\u001b[0;34m()\u001b[0m\n\u001b[0;32m----> <a href='vscode-notebook-cell:/Users/xunyijiang/Documents/StudyMaterials/2022Fall/DPC/spark/assignment2/codes/assign2.ipynb#X35sZmlsZQ%3D%3D?line=0'>1</a>\u001b[0m start_server(test,port\u001b[39m=\u001b[39;49m\u001b[39m8080\u001b[39;49m, debug\u001b[39m=\u001b[39;49m\u001b[39mTrue\u001b[39;49;00m)\n",
      "File \u001b[0;32m/opt/miniconda3/envs/myEnv/lib/python3.9/site-packages/pywebio/platform/tornado.py:291\u001b[0m, in \u001b[0;36mstart_server\u001b[0;34m(applications, port, host, debug, cdn, static_dir, remote_access, reconnect_timeout, allowed_origins, check_origin, auto_open_webbrowser, max_payload_size, **tornado_app_settings)\u001b[0m\n\u001b[1;32m    288\u001b[0m tornado_app_settings[\u001b[39m'\u001b[39m\u001b[39mdebug\u001b[39m\u001b[39m'\u001b[39m] \u001b[39m=\u001b[39m debug\n\u001b[1;32m    289\u001b[0m handler \u001b[39m=\u001b[39m webio_handler(applications, cdn, allowed_origins\u001b[39m=\u001b[39mallowed_origins, check_origin\u001b[39m=\u001b[39mcheck_origin,\n\u001b[1;32m    290\u001b[0m                         reconnect_timeout\u001b[39m=\u001b[39mreconnect_timeout)\n\u001b[0;32m--> 291\u001b[0m _, port \u001b[39m=\u001b[39m _setup_server(webio_handler\u001b[39m=\u001b[39;49mhandler, port\u001b[39m=\u001b[39;49mport, host\u001b[39m=\u001b[39;49mhost, static_dir\u001b[39m=\u001b[39;49mstatic_dir,\n\u001b[1;32m    292\u001b[0m                         max_buffer_size\u001b[39m=\u001b[39;49mmax_payload_size, \u001b[39m*\u001b[39;49m\u001b[39m*\u001b[39;49mtornado_app_settings)\n\u001b[1;32m    294\u001b[0m print_listen_address(host, port)\n\u001b[1;32m    296\u001b[0m \u001b[39mif\u001b[39;00m auto_open_webbrowser:\n",
      "File \u001b[0;32m/opt/miniconda3/envs/myEnv/lib/python3.9/site-packages/pywebio/platform/tornado.py:205\u001b[0m, in \u001b[0;36m_setup_server\u001b[0;34m(webio_handler, port, host, static_dir, max_buffer_size, **tornado_app_settings)\u001b[0m\n\u001b[1;32m    203\u001b[0m app \u001b[39m=\u001b[39m tornado\u001b[39m.\u001b[39mweb\u001b[39m.\u001b[39mApplication(handlers\u001b[39m=\u001b[39mhandlers, \u001b[39m*\u001b[39m\u001b[39m*\u001b[39mtornado_app_settings)\n\u001b[1;32m    204\u001b[0m \u001b[39m# Credit: https://stackoverflow.com/questions/19074972/content-length-too-long-when-uploading-file-using-tornado\u001b[39;00m\n\u001b[0;32m--> 205\u001b[0m server \u001b[39m=\u001b[39m app\u001b[39m.\u001b[39;49mlisten(port, address\u001b[39m=\u001b[39;49mhost, max_buffer_size\u001b[39m=\u001b[39;49mmax_buffer_size)\n\u001b[1;32m    206\u001b[0m \u001b[39mreturn\u001b[39;00m server, port\n",
      "File \u001b[0;32m/opt/miniconda3/envs/myEnv/lib/python3.9/site-packages/tornado/web.py:2109\u001b[0m, in \u001b[0;36mApplication.listen\u001b[0;34m(self, port, address, **kwargs)\u001b[0m\n\u001b[1;32m   2090\u001b[0m \u001b[39m\"\"\"Starts an HTTP server for this application on the given port.\u001b[39;00m\n\u001b[1;32m   2091\u001b[0m \n\u001b[1;32m   2092\u001b[0m \u001b[39mThis is a convenience alias for creating an `.HTTPServer`\u001b[39;00m\n\u001b[0;32m   (...)\u001b[0m\n\u001b[1;32m   2106\u001b[0m \u001b[39m   Now returns the `.HTTPServer` object.\u001b[39;00m\n\u001b[1;32m   2107\u001b[0m \u001b[39m\"\"\"\u001b[39;00m\n\u001b[1;32m   2108\u001b[0m server \u001b[39m=\u001b[39m HTTPServer(\u001b[39mself\u001b[39m, \u001b[39m*\u001b[39m\u001b[39m*\u001b[39mkwargs)\n\u001b[0;32m-> 2109\u001b[0m server\u001b[39m.\u001b[39;49mlisten(port, address)\n\u001b[1;32m   2110\u001b[0m \u001b[39mreturn\u001b[39;00m server\n",
      "File \u001b[0;32m/opt/miniconda3/envs/myEnv/lib/python3.9/site-packages/tornado/tcpserver.py:151\u001b[0m, in \u001b[0;36mTCPServer.listen\u001b[0;34m(self, port, address)\u001b[0m\n\u001b[1;32m    143\u001b[0m \u001b[39mdef\u001b[39;00m \u001b[39mlisten\u001b[39m(\u001b[39mself\u001b[39m, port: \u001b[39mint\u001b[39m, address: \u001b[39mstr\u001b[39m \u001b[39m=\u001b[39m \u001b[39m\"\u001b[39m\u001b[39m\"\u001b[39m) \u001b[39m-\u001b[39m\u001b[39m>\u001b[39m \u001b[39mNone\u001b[39;00m:\n\u001b[1;32m    144\u001b[0m     \u001b[39m\"\"\"Starts accepting connections on the given port.\u001b[39;00m\n\u001b[1;32m    145\u001b[0m \n\u001b[1;32m    146\u001b[0m \u001b[39m    This method may be called more than once to listen on multiple ports.\u001b[39;00m\n\u001b[0;32m   (...)\u001b[0m\n\u001b[1;32m    149\u001b[0m \u001b[39m    the `.IOLoop`.\u001b[39;00m\n\u001b[1;32m    150\u001b[0m \u001b[39m    \"\"\"\u001b[39;00m\n\u001b[0;32m--> 151\u001b[0m     sockets \u001b[39m=\u001b[39m bind_sockets(port, address\u001b[39m=\u001b[39;49maddress)\n\u001b[1;32m    152\u001b[0m     \u001b[39mself\u001b[39m\u001b[39m.\u001b[39madd_sockets(sockets)\n",
      "File \u001b[0;32m/opt/miniconda3/envs/myEnv/lib/python3.9/site-packages/tornado/netutil.py:161\u001b[0m, in \u001b[0;36mbind_sockets\u001b[0;34m(port, address, family, backlog, flags, reuse_port)\u001b[0m\n\u001b[1;32m    159\u001b[0m sock\u001b[39m.\u001b[39msetblocking(\u001b[39mFalse\u001b[39;00m)\n\u001b[1;32m    160\u001b[0m \u001b[39mtry\u001b[39;00m:\n\u001b[0;32m--> 161\u001b[0m     sock\u001b[39m.\u001b[39;49mbind(sockaddr)\n\u001b[1;32m    162\u001b[0m \u001b[39mexcept\u001b[39;00m \u001b[39mOSError\u001b[39;00m \u001b[39mas\u001b[39;00m e:\n\u001b[1;32m    163\u001b[0m     \u001b[39mif\u001b[39;00m (\n\u001b[1;32m    164\u001b[0m         errno_from_exception(e) \u001b[39m==\u001b[39m errno\u001b[39m.\u001b[39mEADDRNOTAVAIL\n\u001b[1;32m    165\u001b[0m         \u001b[39mand\u001b[39;00m address \u001b[39m==\u001b[39m \u001b[39m\"\u001b[39m\u001b[39mlocalhost\u001b[39m\u001b[39m\"\u001b[39m\n\u001b[0;32m   (...)\u001b[0m\n\u001b[1;32m    177\u001b[0m         \u001b[39m# might be a real problem like a typo in a\u001b[39;00m\n\u001b[1;32m    178\u001b[0m         \u001b[39m# configuration.\u001b[39;00m\n",
      "\u001b[0;31mOSError\u001b[0m: [Errno 48] Address already in use"
     ]
    }
   ],
   "source": [
    "start_server(test,port=8080, debug=True)"
   ]
  },
  {
   "cell_type": "code",
   "execution_count": null,
   "metadata": {},
   "outputs": [],
   "source": []
  }
 ],
 "metadata": {
  "kernelspec": {
   "display_name": "Python 3.9.12 ('myEnv')",
   "language": "python",
   "name": "python3"
  },
  "language_info": {
   "codemirror_mode": {
    "name": "ipython",
    "version": 3
   },
   "file_extension": ".py",
   "mimetype": "text/x-python",
   "name": "python",
   "nbconvert_exporter": "python",
   "pygments_lexer": "ipython3",
   "version": "3.9.12"
  },
  "orig_nbformat": 4,
  "vscode": {
   "interpreter": {
    "hash": "8d511ecf47e37874b67868b64cf799c0578a6f729d52bb04263c873a635bf916"
   }
  }
 },
 "nbformat": 4,
 "nbformat_minor": 2
}

{
 "cells": [
  {
   "cell_type": "markdown",
   "metadata": {},
   "source": [
    "# Test Spark sql\n",
    "This library is similar to pandas, which can be used to handle the dataframe data and connecting with database."
   ]
  },
  {
   "cell_type": "code",
   "execution_count": 36,
   "metadata": {},
   "outputs": [
    {
     "name": "stdout",
     "output_type": "stream",
     "text": [
      "+---+---+-------+----------+-------------------+\n",
      "|  a|  b|      c|         d|                  e|\n",
      "+---+---+-------+----------+-------------------+\n",
      "|  1|2.0|string1|2000-01-01|2000-01-01 12:00:00|\n",
      "|  2|3.0|string2|2000-02-01|2000-01-02 12:00:00|\n",
      "|  3|4.0|string3|2000-03-01|2000-01-03 12:00:00|\n",
      "+---+---+-------+----------+-------------------+\n",
      "\n"
     ]
    }
   ],
   "source": [
    "from pyspark.sql import SparkSession\n",
    "from datetime import datetime, date\n",
    "import pandas as pd\n",
    "from pyspark.sql import Row\n",
    "\n",
    "spark = SparkSession.builder.getOrCreate()\n",
    "\n",
    "pandas_df = pd.DataFrame({\n",
    "    'a': [1, 2, 3],\n",
    "    'b': [2., 3., 4.],\n",
    "    'c': ['string1', 'string2', 'string3'],\n",
    "    'd': [date(2000, 1, 1), date(2000, 2, 1), date(2000, 3, 1)],\n",
    "    'e': [datetime(2000, 1, 1, 12, 0), datetime(2000, 1, 2, 12, 0), datetime(2000, 1, 3, 12, 0)]\n",
    "})\n",
    "df = spark.createDataFrame(pandas_df)\n",
    "spark.conf.set('spark.sql.repl.eagerEval.enabled', True)\n",
    "df.show()\n"
   ]
  },
  {
   "cell_type": "code",
   "execution_count": 13,
   "metadata": {},
   "outputs": [
    {
     "data": {
      "text/plain": [
       "[Row(a=1, b=2.0, c='string1', d=datetime.date(2000, 1, 1), e=datetime.datetime(2000, 1, 1, 12, 0))]"
      ]
     },
     "execution_count": 13,
     "metadata": {},
     "output_type": "execute_result"
    }
   ],
   "source": [
    "# take col\n",
    "df.select('a')\n",
    "# If turn the conf into true, then you dont need to use show method\n",
    "#df['a'].show() # This will give you a warning\n",
    "# This is a column instance\n",
    "\n",
    "# take row\n",
    "df.take(1)"
   ]
  },
  {
   "cell_type": "code",
   "execution_count": 16,
   "metadata": {},
   "outputs": [
    {
     "data": {
      "text/html": [
       "<table border='1'>\n",
       "<tr><th>c</th></tr>\n",
       "<tr><td>string1</td></tr>\n",
       "<tr><td>string2</td></tr>\n",
       "<tr><td>string3</td></tr>\n",
       "</table>\n"
      ],
      "text/plain": [
       "+-------+\n",
       "|      c|\n",
       "+-------+\n",
       "|string1|\n",
       "|string2|\n",
       "|string3|\n",
       "+-------+"
      ]
     },
     "execution_count": 16,
     "metadata": {},
     "output_type": "execute_result"
    }
   ],
   "source": [
    "# Using `column` instance to select a dataframe from dataframe\n",
    "# These 2 ways are the same\n",
    "df.select(df.c)\n",
    "df.select('c')\n"
   ]
  },
  {
   "cell_type": "code",
   "execution_count": 18,
   "metadata": {},
   "outputs": [
    {
     "data": {
      "text/html": [
       "<table border='1'>\n",
       "<tr><th>a</th><th>b</th><th>c</th><th>d</th><th>e</th><th>upper_c</th></tr>\n",
       "<tr><td>1</td><td>2.0</td><td>string1</td><td>2000-01-01</td><td>2000-01-01 12:00:00</td><td>STRING1</td></tr>\n",
       "<tr><td>2</td><td>3.0</td><td>string2</td><td>2000-02-01</td><td>2000-01-02 12:00:00</td><td>STRING2</td></tr>\n",
       "<tr><td>3</td><td>4.0</td><td>string3</td><td>2000-03-01</td><td>2000-01-03 12:00:00</td><td>STRING3</td></tr>\n",
       "</table>\n"
      ],
      "text/plain": [
       "+---+---+-------+----------+-------------------+-------+\n",
       "|  a|  b|      c|         d|                  e|upper_c|\n",
       "+---+---+-------+----------+-------------------+-------+\n",
       "|  1|2.0|string1|2000-01-01|2000-01-01 12:00:00|STRING1|\n",
       "|  2|3.0|string2|2000-02-01|2000-01-02 12:00:00|STRING2|\n",
       "|  3|4.0|string3|2000-03-01|2000-01-03 12:00:00|STRING3|\n",
       "+---+---+-------+----------+-------------------+-------+"
      ]
     },
     "execution_count": 18,
     "metadata": {},
     "output_type": "execute_result"
    }
   ],
   "source": [
    "# Add new col\n",
    "# If need more funciton, we can use functions (this package)\n",
    "from pyspark.sql.functions import upper\n",
    "df.withColumn('upper_c', upper(df.c))"
   ]
  },
  {
   "cell_type": "code",
   "execution_count": 25,
   "metadata": {},
   "outputs": [
    {
     "data": {
      "text/html": [
       "<table border='1'>\n",
       "<tr><th>a</th><th>b</th><th>c</th><th>d</th><th>e</th></tr>\n",
       "<tr><td>1</td><td>2.0</td><td>string1</td><td>2000-01-01</td><td>2000-01-01 12:00:00</td></tr>\n",
       "</table>\n"
      ],
      "text/plain": [
       "+---+---+-------+----------+-------------------+\n",
       "|  a|  b|      c|         d|                  e|\n",
       "+---+---+-------+----------+-------------------+\n",
       "|  1|2.0|string1|2000-01-01|2000-01-01 12:00:00|\n",
       "+---+---+-------+----------+-------------------+"
      ]
     },
     "execution_count": 25,
     "metadata": {},
     "output_type": "execute_result"
    }
   ],
   "source": [
    "# Using filter to filter the data rather directly use \n",
    "df.filter(df.a == 1)\n",
    "#df.select(df.select('a') == 1)\n",
    "# No method "
   ]
  },
  {
   "cell_type": "markdown",
   "metadata": {},
   "source": [
    "## Apply native python functions"
   ]
  },
  {
   "cell_type": "code",
   "execution_count": 39,
   "metadata": {},
   "outputs": [
    {
     "name": "stdout",
     "output_type": "stream",
     "text": [
      "+---+---+-------+----------+-------------------+\n",
      "|  a|  b|      c|         d|                  e|\n",
      "+---+---+-------+----------+-------------------+\n",
      "|  1|2.0|string1|2000-01-01|2000-01-01 12:00:00|\n",
      "+---+---+-------+----------+-------------------+\n",
      "\n"
     ]
    }
   ],
   "source": [
    "import pandas as pd\n",
    "from pyspark.sql.functions import pandas_udf\n",
    "\n",
    "@pandas_udf('long')\n",
    "def pandas_plus_one(series: pd.Series) -> pd.Series:\n",
    "    # Simply plus one by using pandas Series.\n",
    "    return series + 1\n",
    "type(pandas_plus_one(df.a))\n",
    "type(df.a)\n",
    "# df.a is a column type which is the same as seires?\n",
    "# Why this method return a pd.series but is a column type?\n",
    "\n",
    "\n",
    "# 没看懂！\n",
    "def pandas_filter_func(iterator):\n",
    "    for pandas_df in iterator:\n",
    "        yield pandas_df[pandas_df.a == 1]\n",
    "\n",
    "df.mapInPandas(pandas_filter_func, schema=df.schema).show()\n"
   ]
  },
  {
   "cell_type": "markdown",
   "metadata": {},
   "source": [
    "## Group Data"
   ]
  },
  {
   "cell_type": "code",
   "execution_count": 32,
   "metadata": {},
   "outputs": [
    {
     "data": {
      "text/html": [
       "<table border='1'>\n",
       "<tr><th>color</th><th>fruit</th><th>v1</th><th>v2</th></tr>\n",
       "<tr><td>red</td><td>banana</td><td>1</td><td>10</td></tr>\n",
       "<tr><td>blue</td><td>banana</td><td>2</td><td>20</td></tr>\n",
       "<tr><td>red</td><td>carrot</td><td>3</td><td>30</td></tr>\n",
       "<tr><td>blue</td><td>grape</td><td>4</td><td>40</td></tr>\n",
       "<tr><td>red</td><td>carrot</td><td>5</td><td>50</td></tr>\n",
       "<tr><td>black</td><td>carrot</td><td>6</td><td>60</td></tr>\n",
       "<tr><td>red</td><td>banana</td><td>7</td><td>70</td></tr>\n",
       "<tr><td>red</td><td>grape</td><td>8</td><td>80</td></tr>\n",
       "</table>\n"
      ],
      "text/plain": [
       "+-----+------+---+---+\n",
       "|color| fruit| v1| v2|\n",
       "+-----+------+---+---+\n",
       "|  red|banana|  1| 10|\n",
       "| blue|banana|  2| 20|\n",
       "|  red|carrot|  3| 30|\n",
       "| blue| grape|  4| 40|\n",
       "|  red|carrot|  5| 50|\n",
       "|black|carrot|  6| 60|\n",
       "|  red|banana|  7| 70|\n",
       "|  red| grape|  8| 80|\n",
       "+-----+------+---+---+"
      ]
     },
     "execution_count": 32,
     "metadata": {},
     "output_type": "execute_result"
    }
   ],
   "source": [
    "df = spark.createDataFrame([\n",
    "    ['red', 'banana', 1, 10], ['blue', 'banana', 2, 20], ['red', 'carrot', 3, 30],\n",
    "    ['blue', 'grape', 4, 40], ['red', 'carrot', 5, 50], ['black', 'carrot', 6, 60],\n",
    "    ['red', 'banana', 7, 70], ['red', 'grape', 8, 80]], schema=['color', 'fruit', 'v1', 'v2'])\n",
    "df\n",
    "# 在我这个spark对象上创建的所有dataframe 都可以直接显示，拥有相同配置"
   ]
  },
  {
   "cell_type": "code",
   "execution_count": 34,
   "metadata": {},
   "outputs": [
    {
     "name": "stderr",
     "output_type": "stream",
     "text": [
      "                                                                                \r"
     ]
    },
    {
     "data": {
      "text/html": [
       "<table border='1'>\n",
       "<tr><th>color</th><th>avg(v1)</th><th>avg(v2)</th></tr>\n",
       "<tr><td>red</td><td>4.8</td><td>48.0</td></tr>\n",
       "<tr><td>blue</td><td>3.0</td><td>30.0</td></tr>\n",
       "<tr><td>black</td><td>6.0</td><td>60.0</td></tr>\n",
       "</table>\n"
      ],
      "text/plain": [
       "+-----+-------+-------+\n",
       "|color|avg(v1)|avg(v2)|\n",
       "+-----+-------+-------+\n",
       "|  red|    4.8|   48.0|\n",
       "| blue|    3.0|   30.0|\n",
       "|black|    6.0|   60.0|\n",
       "+-----+-------+-------+"
      ]
     },
     "execution_count": 34,
     "metadata": {},
     "output_type": "execute_result"
    }
   ],
   "source": [
    "df.groupBy('color').avg()\n",
    "\n",
    "\n",
    "## Using functions in pandas\n",
    "def plus_mean(pandas_df):\n",
    "    return pandas_df.assign(v1=pandas_df.v1 - pandas_df.v1.mean())\n",
    "\n",
    "df.groupby('color').applyInPandas(plus_mean, schema=df.schema).show()"
   ]
  },
  {
   "cell_type": "markdown",
   "metadata": {},
   "source": [
    "## Get data in/out"
   ]
  },
  {
   "cell_type": "code",
   "execution_count": 40,
   "metadata": {},
   "outputs": [
    {
     "name": "stderr",
     "output_type": "stream",
     "text": [
      "                                                                                \r"
     ]
    },
    {
     "name": "stdout",
     "output_type": "stream",
     "text": [
      "+---+---+-------+----------+--------------------+\n",
      "|  a|  b|      c|         d|                   e|\n",
      "+---+---+-------+----------+--------------------+\n",
      "|  3|4.0|string3|2000-03-01|2000-01-03T12:00:...|\n",
      "|  2|3.0|string2|2000-02-01|2000-01-02T12:00:...|\n",
      "|  1|2.0|string1|2000-01-01|2000-01-01T12:00:...|\n",
      "+---+---+-------+----------+--------------------+\n",
      "\n"
     ]
    }
   ],
   "source": [
    "df.write.csv('foo.csv', header=True)\n",
    "spark.read.csv('foo.csv', header=True).show()"
   ]
  },
  {
   "cell_type": "code",
   "execution_count": null,
   "metadata": {},
   "outputs": [],
   "source": []
  },
  {
   "cell_type": "code",
   "execution_count": null,
   "metadata": {},
   "outputs": [],
   "source": []
  },
  {
   "cell_type": "code",
   "execution_count": null,
   "metadata": {},
   "outputs": [],
   "source": []
  },
  {
   "cell_type": "code",
   "execution_count": null,
   "metadata": {},
   "outputs": [],
   "source": []
  },
  {
   "cell_type": "code",
   "execution_count": null,
   "metadata": {},
   "outputs": [],
   "source": []
  },
  {
   "cell_type": "code",
   "execution_count": null,
   "metadata": {},
   "outputs": [],
   "source": []
  },
  {
   "cell_type": "code",
   "execution_count": null,
   "metadata": {},
   "outputs": [],
   "source": []
  },
  {
   "cell_type": "code",
   "execution_count": null,
   "metadata": {},
   "outputs": [],
   "source": []
  }
 ],
 "metadata": {
  "kernelspec": {
   "display_name": "Python 3.9.12 ('myEnv')",
   "language": "python",
   "name": "python3"
  },
  "language_info": {
   "codemirror_mode": {
    "name": "ipython",
    "version": 3
   },
   "file_extension": ".py",
   "mimetype": "text/x-python",
   "name": "python",
   "nbconvert_exporter": "python",
   "pygments_lexer": "ipython3",
   "version": "3.9.12"
  },
  "orig_nbformat": 4,
  "vscode": {
   "interpreter": {
    "hash": "8d511ecf47e37874b67868b64cf799c0578a6f729d52bb04263c873a635bf916"
   }
  }
 },
 "nbformat": 4,
 "nbformat_minor": 2
}
